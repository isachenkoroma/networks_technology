{
 "cells": [
  {
   "cell_type": "code",
   "execution_count": 2,
   "metadata": {
    "collapsed": true
   },
   "outputs": [],
   "source": [
    "import numpy as np\n",
    "import pandas as pd"
   ]
  },
  {
   "cell_type": "code",
   "execution_count": 3,
   "metadata": {
    "collapsed": false
   },
   "outputs": [
    {
     "name": "stderr",
     "output_type": "stream",
     "text": [
      "C:\\Anaconda2\\lib\\site-packages\\ipykernel\\__main__.py:1: ParserWarning: Falling back to the 'python' engine because the 'c' engine does not support regex separators (separators > 1 char and different from '\\s+' are interpreted as regex); you can avoid this warning by specifying engine='python'.\n",
      "  if __name__ == '__main__':\n"
     ]
    },
    {
     "data": {
      "text/html": [
       "<div>\n",
       "<table border=\"1\" class=\"dataframe\">\n",
       "  <thead>\n",
       "    <tr style=\"text-align: right;\">\n",
       "      <th></th>\n",
       "      <th>0</th>\n",
       "      <th>1</th>\n",
       "    </tr>\n",
       "  </thead>\n",
       "  <tbody>\n",
       "    <tr>\n",
       "      <th>0</th>\n",
       "      <td>Afghanistan</td>\n",
       "      <td>Kabul</td>\n",
       "    </tr>\n",
       "    <tr>\n",
       "      <th>1</th>\n",
       "      <td>Albania</td>\n",
       "      <td>Tirane</td>\n",
       "    </tr>\n",
       "    <tr>\n",
       "      <th>2</th>\n",
       "      <td>Algeria</td>\n",
       "      <td>Algiers</td>\n",
       "    </tr>\n",
       "    <tr>\n",
       "      <th>3</th>\n",
       "      <td>Andorra</td>\n",
       "      <td>Andorra la Vella</td>\n",
       "    </tr>\n",
       "    <tr>\n",
       "      <th>4</th>\n",
       "      <td>Angola</td>\n",
       "      <td>Luanda</td>\n",
       "    </tr>\n",
       "  </tbody>\n",
       "</table>\n",
       "</div>"
      ],
      "text/plain": [
       "             0                 1\n",
       "0  Afghanistan             Kabul\n",
       "1      Albania            Tirane\n",
       "2      Algeria           Algiers\n",
       "3      Andorra  Andorra la Vella\n",
       "4       Angola            Luanda"
      ]
     },
     "execution_count": 3,
     "metadata": {},
     "output_type": "execute_result"
    }
   ],
   "source": [
    "\n",
    "df.head()"
   ]
  },
  {
   "cell_type": "code",
   "execution_count": 5,
   "metadata": {
    "collapsed": false
   },
   "outputs": [
    {
     "name": "stderr",
     "output_type": "stream",
     "text": [
      "C:\\Anaconda2\\lib\\site-packages\\ipykernel\\__main__.py:1: ParserWarning: Falling back to the 'python' engine because the 'c' engine does not support regex separators (separators > 1 char and different from '\\s+' are interpreted as regex); you can avoid this warning by specifying engine='python'.\n",
      "  if __name__ == '__main__':\n"
     ]
    }
   ],
   "source": [
    "df = pd.read_table('parser2.txt', header=None, sep=' - ')\n",
    "COUNTRIES = list(df[0])\n",
    "CAPITALS = list(df[1])\n",
    "f = open('parser.txt', 'r')\n",
    "df = pd.read_csv('list-national-capitals-748j.csv')\n",
    "links = []\n",
    "countries = []\n",
    "capitals = []\n",
    "for line in f.readlines():\n",
    "    start_link = line.find('src') + 5\n",
    "    if line.find('src') != -1:\n",
    "        start_country = line.find('country') + 8\n",
    "        line_country = line[start_country:]\n",
    "        end_country = line_country.find('/')\n",
    "        line_country = line_country[0].upper() + line_country[1:end_country]\n",
    "        line_link = line[start_link:]\n",
    "        end_link = line_link.find('png') -1\n",
    "        line_link = line_link[:end_link] + '0' + '.png'\n",
    "        \n",
    "        for i in range(len(COUNTRIES)):\n",
    "            if line_country == COUNTRIES[i]:\n",
    "                links.append(line_link)\n",
    "                countries.append(line_country)\n",
    "                capitals.append(CAPITALS[i])\n",
    "                break"
   ]
  },
  {
   "cell_type": "code",
   "execution_count": 19,
   "metadata": {
    "collapsed": false
   },
   "outputs": [],
   "source": [
    "sort_countries = sorted(countries)\n",
    "sort_capitals = []\n",
    "sort_links = []\n",
    "for i in range(len(sort_countries)):\n",
    "    for j in range(len(countries)):\n",
    "        if sort_countries[i] == countries[j]:\n",
    "            sort_capitals.append(capitals[j])\n",
    "            sort_links.append(links[j])"
   ]
  },
  {
   "cell_type": "code",
   "execution_count": 20,
   "metadata": {
    "collapsed": false
   },
   "outputs": [
    {
     "name": "stdout",
     "output_type": "stream",
     "text": [
      "['Afghanistan', 'Albania', 'Algeria', 'Andorra', 'Angola', 'Argentina', 'Armenia', 'Australia', 'Austria', 'Azerbaijan']\n",
      "['Kabul', 'Tirane', 'Algiers', 'Andorra la Vella', 'Luanda', 'Buenos Aires', 'Yerevan', 'Canberra', 'Vienna', 'Baku']\n"
     ]
    }
   ],
   "source": [
    "print sort_countries[:10]\n",
    "print sort_capitals[:10]"
   ]
  },
  {
   "cell_type": "code",
   "execution_count": 21,
   "metadata": {
    "collapsed": false
   },
   "outputs": [],
   "source": [
    "json_str = '{\\n \\t\"technology\": {\\n'\n",
    "for i in range(len(sort_countries)):\n",
    "    json_str += '\\t\\t\"%d\": {\\n' % (i + 1)\n",
    "    json_str += '\\t\\t\\t\"id\": %d,\\n' % (i + 1)\n",
    "    json_str += '\\t\\t\\t\"picture\": \"%s\",\\n' % sort_links[i]\n",
    "    json_str += '\\t\\t\\t\"title\": \"%s\",\\n' % sort_countries[i]\n",
    "    json_str += '\\t\\t\\t\"info\": \"%s\"\\n' % (sort_countries[i] + '\\n' + 'Capital: ' + sort_capitals[i])\n",
    "    json_str += '\\t\\t},\\n'\n",
    "    \n",
    "json_str += '\\t}\\n'\n",
    "json_str += '}'"
   ]
  },
  {
   "cell_type": "code",
   "execution_count": 22,
   "metadata": {
    "collapsed": false
   },
   "outputs": [],
   "source": [
    "f = open('technology.txt', 'w')\n",
    "f.write(json_str)\n",
    "f.close()"
   ]
  },
  {
   "cell_type": "code",
   "execution_count": null,
   "metadata": {
    "collapsed": true
   },
   "outputs": [],
   "source": []
  }
 ],
 "metadata": {
  "kernelspec": {
   "display_name": "Python 2",
   "language": "python",
   "name": "python2"
  },
  "language_info": {
   "codemirror_mode": {
    "name": "ipython",
    "version": 2
   },
   "file_extension": ".py",
   "mimetype": "text/x-python",
   "name": "python",
   "nbconvert_exporter": "python",
   "pygments_lexer": "ipython2",
   "version": "2.7.11"
  }
 },
 "nbformat": 4,
 "nbformat_minor": 0
}
